#no vamos a utilizar numpys, sino dask
# primero leeremos el detaset 
# hacemos lo mismo que en iron hack
# todo con python y dask sin pyspark

